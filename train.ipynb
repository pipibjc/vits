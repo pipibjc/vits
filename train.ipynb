{
 "cells": [
  {
   "cell_type": "code",
   "execution_count": 2,
   "metadata": {},
   "outputs": [
    {
     "name": "stdout",
     "output_type": "stream",
     "text": [
      "LICENSE           \u001b[1m\u001b[34mfilelists\u001b[m\u001b[m         \u001b[1m\u001b[34mmonotonic_align\u001b[m\u001b[m   train.py\n",
      "README.md         inference.ipynb   preprocess.py     train_ms.py\n",
      "attentions.py     losses.py         requirements.txt  transforms.py\n",
      "commons.py        mel_processing.py \u001b[1m\u001b[34mresources\u001b[m\u001b[m         utils.py\n",
      "\u001b[1m\u001b[34mconfigs\u001b[m\u001b[m           models.py         \u001b[1m\u001b[34mtext\u001b[m\u001b[m\n",
      "data_utils.py     modules.py        train.ipynb\n"
     ]
    }
   ],
   "source": [
    "!ls"
   ]
  }
 ],
 "metadata": {
  "kernelspec": {
   "display_name": "Python 3",
   "language": "python",
   "name": "python3"
  },
  "language_info": {
   "codemirror_mode": {
    "name": "ipython",
    "version": 3
   },
   "file_extension": ".py",
   "mimetype": "text/x-python",
   "name": "python",
   "nbconvert_exporter": "python",
   "pygments_lexer": "ipython3",
   "version": "3.9.6"
  }
 },
 "nbformat": 4,
 "nbformat_minor": 2
}
